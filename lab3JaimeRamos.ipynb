{
  "nbformat": 4,
  "nbformat_minor": 0,
  "metadata": {
    "colab": {
      "name": "lab3JaimeRamos.ipynb",
      "provenance": [],
      "toc_visible": true
    },
    "kernelspec": {
      "name": "python3",
      "display_name": "Python 3"
    }
  },
  "cells": [
    {
      "cell_type": "markdown",
      "metadata": {
        "id": "8q-pITLD5N1T",
        "colab_type": "text"
      },
      "source": [
        "**Importing libraries**"
      ]
    },
    {
      "cell_type": "code",
      "metadata": {
        "id": "rq66DsPM4zyi",
        "colab_type": "code",
        "colab": {
          "base_uri": "https://localhost:8080/",
          "height": 73
        },
        "outputId": "44385e20-85f6-444e-abcc-905f0373dbde"
      },
      "source": [
        "import numpy as np\n",
        "import pandas as pd\n",
        "import matplotlib.pyplot as plt\n",
        "import seaborn as sns\n",
        "import math as m\n",
        "import scipy"
      ],
      "execution_count": null,
      "outputs": [
        {
          "output_type": "stream",
          "text": [
            "/usr/local/lib/python3.6/dist-packages/statsmodels/tools/_testing.py:19: FutureWarning: pandas.util.testing is deprecated. Use the functions in the public API at pandas.testing instead.\n",
            "  import pandas.util.testing as tm\n"
          ],
          "name": "stderr"
        }
      ]
    },
    {
      "cell_type": "markdown",
      "metadata": {
        "id": "-EU6lTE9490v",
        "colab_type": "text"
      },
      "source": [
        "#Section 1 (runkeeper)"
      ]
    },
    {
      "cell_type": "markdown",
      "metadata": {
        "id": "X70wa2AXklMh",
        "colab_type": "text"
      },
      "source": [
        "**Importing data and pre visualization**"
      ]
    },
    {
      "cell_type": "code",
      "metadata": {
        "id": "XsOzAzDs5Ldx",
        "colab_type": "code",
        "colab": {
          "base_uri": "https://localhost:8080/",
          "height": 306
        },
        "outputId": "8e03a9f4-7663-4253-e237-10f332e36b61"
      },
      "source": [
        "data1 = pd.read_csv(\"RunningData.csv\")\n",
        "data1.head()"
      ],
      "execution_count": null,
      "outputs": [
        {
          "output_type": "execute_result",
          "data": {
            "text/html": [
              "<div>\n",
              "<style scoped>\n",
              "    .dataframe tbody tr th:only-of-type {\n",
              "        vertical-align: middle;\n",
              "    }\n",
              "\n",
              "    .dataframe tbody tr th {\n",
              "        vertical-align: top;\n",
              "    }\n",
              "\n",
              "    .dataframe thead th {\n",
              "        text-align: right;\n",
              "    }\n",
              "</style>\n",
              "<table border=\"1\" class=\"dataframe\">\n",
              "  <thead>\n",
              "    <tr style=\"text-align: right;\">\n",
              "      <th></th>\n",
              "      <th>Date</th>\n",
              "      <th>Activity Id</th>\n",
              "      <th>Type</th>\n",
              "      <th>Route Name</th>\n",
              "      <th>Distance (km)</th>\n",
              "      <th>Duration</th>\n",
              "      <th>Average Pace</th>\n",
              "      <th>Average Speed (km/h)</th>\n",
              "      <th>Calories Burned</th>\n",
              "      <th>Climb (m)</th>\n",
              "      <th>Average Heart Rate (bpm)</th>\n",
              "      <th>Friend's Tagged</th>\n",
              "      <th>Notes</th>\n",
              "      <th>GPX File</th>\n",
              "    </tr>\n",
              "  </thead>\n",
              "  <tbody>\n",
              "    <tr>\n",
              "      <th>0</th>\n",
              "      <td>11/11/2018 14:05</td>\n",
              "      <td>c9627fed-14ac-47a2-bed3-2a2630c63c15</td>\n",
              "      <td>Running</td>\n",
              "      <td>NaN</td>\n",
              "      <td>10.44</td>\n",
              "      <td>58:40:00</td>\n",
              "      <td>5:37</td>\n",
              "      <td>10.68</td>\n",
              "      <td>774.0</td>\n",
              "      <td>130</td>\n",
              "      <td>159.0</td>\n",
              "      <td>NaN</td>\n",
              "      <td>NaN</td>\n",
              "      <td>2018-11-11-140512.gpx</td>\n",
              "    </tr>\n",
              "    <tr>\n",
              "      <th>1</th>\n",
              "      <td>11/9/2018 15:02</td>\n",
              "      <td>be65818d-a801-4847-a43b-2acdf4dc70e7</td>\n",
              "      <td>Running</td>\n",
              "      <td>NaN</td>\n",
              "      <td>12.84</td>\n",
              "      <td>1:14:12</td>\n",
              "      <td>5:47</td>\n",
              "      <td>10.39</td>\n",
              "      <td>954.0</td>\n",
              "      <td>168</td>\n",
              "      <td>159.0</td>\n",
              "      <td>NaN</td>\n",
              "      <td>NaN</td>\n",
              "      <td>2018-11-09-150235.gpx</td>\n",
              "    </tr>\n",
              "    <tr>\n",
              "      <th>2</th>\n",
              "      <td>11/4/2018 16:05</td>\n",
              "      <td>c09b2f92-f855-497c-b624-c196b3ef036c</td>\n",
              "      <td>Running</td>\n",
              "      <td>NaN</td>\n",
              "      <td>13.01</td>\n",
              "      <td>1:15:16</td>\n",
              "      <td>5:47</td>\n",
              "      <td>10.37</td>\n",
              "      <td>967.0</td>\n",
              "      <td>171</td>\n",
              "      <td>155.0</td>\n",
              "      <td>NaN</td>\n",
              "      <td>NaN</td>\n",
              "      <td>2018-11-04-160500.gpx</td>\n",
              "    </tr>\n",
              "    <tr>\n",
              "      <th>3</th>\n",
              "      <td>11/1/2018 14:03</td>\n",
              "      <td>bc9b612d-3499-43ff-b82a-9b17b71b8a36</td>\n",
              "      <td>Running</td>\n",
              "      <td>NaN</td>\n",
              "      <td>12.98</td>\n",
              "      <td>1:14:25</td>\n",
              "      <td>5:44</td>\n",
              "      <td>10.47</td>\n",
              "      <td>960.0</td>\n",
              "      <td>169</td>\n",
              "      <td>158.0</td>\n",
              "      <td>NaN</td>\n",
              "      <td>NaN</td>\n",
              "      <td>2018-11-01-140358.gpx</td>\n",
              "    </tr>\n",
              "    <tr>\n",
              "      <th>4</th>\n",
              "      <td>10/27/2018 17:01</td>\n",
              "      <td>972567b2-1b0e-437c-9e82-fef8078d6438</td>\n",
              "      <td>Running</td>\n",
              "      <td>NaN</td>\n",
              "      <td>13.02</td>\n",
              "      <td>1:12:50</td>\n",
              "      <td>5:36</td>\n",
              "      <td>10.73</td>\n",
              "      <td>967.0</td>\n",
              "      <td>170</td>\n",
              "      <td>154.0</td>\n",
              "      <td>NaN</td>\n",
              "      <td>NaN</td>\n",
              "      <td>2018-10-27-170136.gpx</td>\n",
              "    </tr>\n",
              "  </tbody>\n",
              "</table>\n",
              "</div>"
            ],
            "text/plain": [
              "               Date  ...               GPX File\n",
              "0  11/11/2018 14:05  ...  2018-11-11-140512.gpx\n",
              "1   11/9/2018 15:02  ...  2018-11-09-150235.gpx\n",
              "2   11/4/2018 16:05  ...  2018-11-04-160500.gpx\n",
              "3   11/1/2018 14:03  ...  2018-11-01-140358.gpx\n",
              "4  10/27/2018 17:01  ...  2018-10-27-170136.gpx\n",
              "\n",
              "[5 rows x 14 columns]"
            ]
          },
          "metadata": {
            "tags": []
          },
          "execution_count": 3
        }
      ]
    },
    {
      "cell_type": "markdown",
      "metadata": {
        "id": "Aa99WqLKlLZb",
        "colab_type": "text"
      },
      "source": [
        "**Plotting the data, based on the Normal Continuous Distribution**"
      ]
    },
    {
      "cell_type": "code",
      "metadata": {
        "id": "byS__KVNbvRM",
        "colab_type": "code",
        "colab": {
          "base_uri": "https://localhost:8080/",
          "height": 265
        },
        "outputId": "734aad00-aebc-4890-a6af-69830b96a54a"
      },
      "source": [
        "from scipy.stats import norm\n",
        "\n",
        "fig, ax = plt.subplots(1, 1)\n",
        "\n",
        "#Filtering just by running activity\n",
        "data1 = data1[data1.Type ==\"Running\"]\n",
        "\n",
        "#Data and parameters\n",
        "distance = data1['Distance (km)']\n",
        "mu, sig = distance.mean(), distance.std()\n",
        "max_distance = distance.max()\n",
        "\n",
        "#histogram\n",
        "ax.hist(distance, density=True, histtype='stepfilled', alpha=0.2)\n",
        "\n",
        "#Curve\n",
        "x = np.linspace(norm.ppf(0.01, mu, sig), norm.ppf(0.99, mu, sig), 1000)\n",
        "ax.plot(x, norm.pdf(x, mu, sig), 'r-', lw=5, alpha=0.6, label='norm pdf')\n",
        "ax.legend(loc='best', frameon=False)\n",
        "plt.show()"
      ],
      "execution_count": null,
      "outputs": [
        {
          "output_type": "display_data",
          "data": {
            "image/png": "[encoded data removed]",
            "text/plain": [
              "<Figure size 432x288 with 1 Axes>"
            ]
          },
          "metadata": {
            "tags": [],
            "needs_background": "light"
          }
        }
      ]
    },
    {
      "cell_type": "markdown",
      "metadata": {
        "id": "TzGhkdILwYzI",
        "colab_type": "text"
      },
      "source": [
        "**The probability of running 10 km**"
      ]
    },
    {
      "cell_type": "code",
      "metadata": {
        "id": "Frrx4oSmsFX8",
        "colab_type": "code",
        "colab": {
          "base_uri": "https://localhost:8080/",
          "height": 35
        },
        "outputId": "cf7a09b5-0e51-4de2-dfe7-7208ac64b57d"
      },
      "source": [
        "print(norm.pdf(10, mu, sig))"
      ],
      "execution_count": null,
      "outputs": [
        {
          "output_type": "stream",
          "text": [
            "0.07868314424727473\n"
          ],
          "name": "stdout"
        }
      ]
    },
    {
      "cell_type": "markdown",
      "metadata": {
        "id": "lm9Ew1oZdg3S",
        "colab_type": "text"
      },
      "source": [
        "**This function integrates between the given intervals (a,b)**"
      ]
    },
    {
      "cell_type": "code",
      "metadata": {
        "id": "NIl_MgpnaAE6",
        "colab_type": "code",
        "colab": {}
      },
      "source": [
        "def normal_distribution_function(xx):\n",
        "    value = scipy.stats.norm.pdf(xx,mu,sig)\n",
        "    return value"
      ],
      "execution_count": null,
      "outputs": []
    },
    {
      "cell_type": "markdown",
      "metadata": {
        "id": "_0x2Fx9pwo33",
        "colab_type": "text"
      },
      "source": [
        "**The probability of running more than 15 km**"
      ]
    },
    {
      "cell_type": "code",
      "metadata": {
        "id": "o2TiiZR2dS7s",
        "colab_type": "code",
        "colab": {
          "base_uri": "https://localhost:8080/",
          "height": 35
        },
        "outputId": "43e839df-ae2c-485c-e03e-ece9a10a0b1b"
      },
      "source": [
        "from scipy import integrate\n",
        "res, err = integrate.quad(normal_distribution_function, 15.001, max_distance)\n",
        "print('Probability x > {} ='.format(15),res)"
      ],
      "execution_count": null,
      "outputs": [
        {
          "output_type": "stream",
          "text": [
            "Probability x > 15 = 0.24368097113650028\n"
          ],
          "name": "stdout"
        }
      ]
    },
    {
      "cell_type": "markdown",
      "metadata": {
        "id": "WeVVf3yPeWOA",
        "colab_type": "text"
      },
      "source": [
        "**Plotting the given interval**"
      ]
    },
    {
      "cell_type": "code",
      "metadata": {
        "id": "k2Nb1VA8eVTB",
        "colab_type": "code",
        "colab": {
          "base_uri": "https://localhost:8080/",
          "height": 283
        },
        "outputId": "6806905f-f3f4-422c-c7a2-9bcb1b0275a8"
      },
      "source": [
        "fig, ax = plt.subplots(1, 1)\n",
        "\n",
        "#99.7% of the data\n",
        "x2 = mu + 3.0 * sig\n",
        "\n",
        "#hatched area\n",
        "ptx = np.linspace(15.01, x2, 10)\n",
        "pty = scipy.stats.norm.pdf(ptx,mu,sig)\n",
        "plt.fill_between(ptx, pty, color='#0b559f', alpha=1.0)\n",
        "plt.grid()\n",
        "\n",
        "#curve\n",
        "x = np.linspace(norm.ppf(0.01, mu, sig), norm.ppf(0.99, mu, sig), 1000)\n",
        "ax.plot(x, norm.pdf(x, mu, sig), 'r-', lw=5, alpha=0.6, label='norm pdf')\n",
        "ax.legend(loc='best', frameon=False)"
      ],
      "execution_count": null,
      "outputs": [
        {
          "output_type": "execute_result",
          "data": {
            "text/plain": [
              "<matplotlib.legend.Legend at 0x7f76c3df7400>"
            ]
          },
          "metadata": {
            "tags": []
          },
          "execution_count": 8
        },
        {
          "output_type": "display_data",
          "data": {
            "image/png": "[encoded data removed]",
            "text/plain": [
              "<Figure size 432x288 with 1 Axes>"
            ]
          },
          "metadata": {
            "tags": [],
            "needs_background": "light"
          }
        }
      ]
    },
    {
      "cell_type": "markdown",
      "metadata": {
        "id": "3OniR0E8B9sh",
        "colab_type": "text"
      },
      "source": [
        "**Boxplot to see in general how data looks and how is distributed**"
      ]
    },
    {
      "cell_type": "code",
      "metadata": {
        "id": "3h3YXs2ZDtP2",
        "colab_type": "code",
        "colab": {
          "base_uri": "https://localhost:8080/",
          "height": 255
        },
        "outputId": "97ebbc06-5cb1-4fbe-dee6-b880c9ef85c4"
      },
      "source": [
        "sns.boxplot(y = distance)\n",
        "plt.show()"
      ],
      "execution_count": null,
      "outputs": [
        {
          "output_type": "display_data",
          "data": {
            "image/png": "[encoded data removed]",
            "text/plain": [
              "<Figure size 432x288 with 1 Axes>"
            ]
          },
          "metadata": {
            "tags": [],
            "needs_background": "light"
          }
        }
      ]
    },
    {
      "cell_type": "markdown",
      "metadata": {
        "id": "O5EgljJ6XOvd",
        "colab_type": "text"
      },
      "source": [
        "We can appreciate that the IQR is small and there are some outliers, that denotes that the distance for running varies considerably between runners"
      ]
    },
    {
      "cell_type": "markdown",
      "metadata": {
        "id": "quERmVemWce5",
        "colab_type": "text"
      },
      "source": [
        "**Distribution based on sigma distance (Graph)**\n",
        "\n"
      ]
    },
    {
      "cell_type": "code",
      "metadata": {
        "id": "ymCQllPICPnT",
        "colab_type": "code",
        "colab": {
          "base_uri": "https://localhost:8080/",
          "height": 283
        },
        "outputId": "7fb66a98-4079-4000-c331-fdf22de5873f"
      },
      "source": [
        "fig, ax2 = plt.subplots(1, 1)\n",
        "xmin3 = mu - 3 * sig\n",
        "xmin2 = mu - 2 * sig\n",
        "xmin1 = mu - 1 * sig\n",
        "xplus3 = mu + 3 * sig\n",
        "xplus2 = mu + 2 * sig\n",
        "xplus1 = mu + 1 * sig\n",
        "xarr = np.array([xmin3, xmin2, xmin1, xplus3, xplus2, xplus1])\n",
        "\n",
        "#hatched area\n",
        "ptx = np.linspace(xmin3, xmin2, 10)\n",
        "pty = scipy.stats.norm.pdf(ptx,mu,sig)\n",
        "plt.fill_between(ptx, pty, color='aquamarine', alpha=1.0,label='mu+-3sig')\n",
        "plt.grid()\n",
        "\n",
        "ptx = np.linspace(xplus2, xplus3, 10)\n",
        "pty = scipy.stats.norm.pdf(ptx,mu,sig)\n",
        "plt.fill_between(ptx, pty, color='aquamarine', alpha=1.0)\n",
        "plt.grid()\n",
        "\n",
        "ptx = np.linspace(xmin2, xmin1, 10)\n",
        "pty = scipy.stats.norm.pdf(ptx,mu,sig)\n",
        "plt.fill_between(ptx, pty, color='turquoise', alpha=1.0)\n",
        "plt.grid()\n",
        "\n",
        "ptx = np.linspace(xplus1, xplus2, 10)\n",
        "pty = scipy.stats.norm.pdf(ptx,mu,sig)\n",
        "plt.fill_between(ptx, pty, color='turquoise', alpha=1.0, label='mu+-2sig')\n",
        "plt.grid()\n",
        "\n",
        "ptx = np.linspace(xmin1, xplus1, 10)\n",
        "pty = scipy.stats.norm.pdf(ptx,mu,sig)\n",
        "plt.fill_between(ptx, pty, color='teal', alpha=1.0, label='mu+-sig')\n",
        "\n",
        "\n",
        "#vlines mean +- std\n",
        "yarr = norm.pdf(xarr, mu,sig)\n",
        "ax2.plot(xarr, yarr, 'co',color='blue', ms=8)\n",
        "ax2.vlines(xarr, 0, yarr, color='blue',lw=5, alpha=0.5)\n",
        "\n",
        "#vlines means\n",
        "ax2.plot(mu, norm.pdf(mu, mu,sig), 'co',color='red', ms=8, label='mean')\n",
        "ax2.vlines(mu, 0, norm.pdf(mu, mu,sig), color='red',lw=5, alpha=0.5)\n",
        "ax2.legend(loc='best', frameon=False)"
      ],
      "execution_count": null,
      "outputs": [
        {
          "output_type": "execute_result",
          "data": {
            "text/plain": [
              "<matplotlib.legend.Legend at 0x7f76c3cf7048>"
            ]
          },
          "metadata": {
            "tags": []
          },
          "execution_count": 10
        },
        {
          "output_type": "display_data",
          "data": {
            "image/png": "[encoded data removed]",
            "text/plain": [
              "<Figure size 432x288 with 1 Axes>"
            ]
          },
          "metadata": {
            "tags": [],
            "needs_background": "light"
          }
        }
      ]
    },
    {
      "cell_type": "markdown",
      "metadata": {
        "id": "C6QU6jXKr1Ye",
        "colab_type": "text"
      },
      "source": [
        "**Percentage of people that may be able to run half marathon**"
      ]
    },
    {
      "cell_type": "code",
      "metadata": {
        "id": "fUqucG3vr01I",
        "colab_type": "code",
        "colab": {
          "base_uri": "https://localhost:8080/",
          "height": 35
        },
        "outputId": "a374b957-a377-4bcb-dbda-390bc3c4509c"
      },
      "source": [
        "print(1-norm.cdf(21.097 , mu, sig))"
      ],
      "execution_count": null,
      "outputs": [
        {
          "output_type": "stream",
          "text": [
            "0.0240922976814274\n"
          ],
          "name": "stdout"
        }
      ]
    },
    {
      "cell_type": "markdown",
      "metadata": {
        "id": "19HSopQnr20k",
        "colab_type": "text"
      },
      "source": [
        "**Percentage of people that may be able to run a marathon**"
      ]
    },
    {
      "cell_type": "code",
      "metadata": {
        "id": "QLL-pcaor4tS",
        "colab_type": "code",
        "colab": {
          "base_uri": "https://localhost:8080/",
          "height": 35
        },
        "outputId": "1732ebcf-b348-49d9-a575-8784a5c4b79b"
      },
      "source": [
        "print(1-norm.cdf(42.1, mu, sig))"
      ],
      "execution_count": null,
      "outputs": [
        {
          "output_type": "stream",
          "text": [
            "8.292133646392585e-11\n"
          ],
          "name": "stdout"
        }
      ]
    },
    {
      "cell_type": "markdown",
      "metadata": {
        "id": "dgG48U88wRKv",
        "colab_type": "text"
      },
      "source": [
        "**Quantiles**"
      ]
    },
    {
      "cell_type": "code",
      "metadata": {
        "id": "hWn8-k3iw8-l",
        "colab_type": "code",
        "colab": {
          "base_uri": "https://localhost:8080/",
          "height": 53
        },
        "outputId": "12ecbbc9-3e67-4215-dcdf-4cb245044e8b"
      },
      "source": [
        "print(distance.quantile(0.25))\n",
        "print(distance.quantile(0.75))"
      ],
      "execution_count": null,
      "outputs": [
        {
          "output_type": "stream",
          "text": [
            "9.55\n",
            "13.190000000000001\n"
          ],
          "name": "stdout"
        }
      ]
    },
    {
      "cell_type": "markdown",
      "metadata": {
        "id": "is9w2o3qx0F5",
        "colab_type": "text"
      },
      "source": [
        "**Mean**"
      ]
    },
    {
      "cell_type": "code",
      "metadata": {
        "id": "prtZKqNlx2gx",
        "colab_type": "code",
        "colab": {
          "base_uri": "https://localhost:8080/",
          "height": 35
        },
        "outputId": "cbfbfd2c-8fdd-4011-a52c-f0f587c3ebfe"
      },
      "source": [
        "print(distance.mean())"
      ],
      "execution_count": null,
      "outputs": [
        {
          "output_type": "stream",
          "text": [
            "11.69655773420479\n"
          ],
          "name": "stdout"
        }
      ]
    },
    {
      "cell_type": "markdown",
      "metadata": {
        "id": "LQ13a-uqwOQf",
        "colab_type": "text"
      },
      "source": [
        "**Conclusions**"
      ]
    },
    {
      "cell_type": "markdown",
      "metadata": {
        "id": "UGtG5IVBwVp7",
        "colab_type": "text"
      },
      "source": [
        "Based on the analysis, we can conclude that the runners in this application has all level of expertise in running because, the distance that each of them can achive can vary a lot from person to person, so in that aspect we can think that the app is used for hobby, practice, health and for High performance athletes. Based on the training on the app we can conclude that about 2.4% of this users are able to run a half marathon and in order to run a complete marathon they should train more. Based on quantiles we can find that central 50% of people run between 9.55 km and 13.20 km. Finally, it is neccesary to mention that the average distance that people can run is 11.70 km.\n",
        "I also found that the probability of running exactly 10km is around 8% and the probability of running more than 15 km is about 24%."
      ]
    },
    {
      "cell_type": "markdown",
      "metadata": {
        "id": "SQSvLKoK5V3k",
        "colab_type": "text"
      },
      "source": [
        "# Section 2 (Traffic Accidents)"
      ]
    },
    {
      "cell_type": "markdown",
      "metadata": {
        "id": "O9zzN1cV1YTE",
        "colab_type": "text"
      },
      "source": [
        "Due to the nature of the objective statistic ***Cantidad de accidentes Diarios***, we can identify the following:\n",
        "\n",
        "\n",
        "1.   The statistic is part of the discrete probability distributions.\n",
        "2.   The statistic fits perfect and only with the poisson probability distribution because we want to find the number of results (traffic accidents) that occur in certain interval of time (day).\n"
      ]
    },
    {
      "cell_type": "markdown",
      "metadata": {
        "id": "S7FvxwXCJg9v",
        "colab_type": "text"
      },
      "source": [
        "**Data management and pre-visualization**"
      ]
    },
    {
      "cell_type": "code",
      "metadata": {
        "id": "NQ8UGf6F5z4a",
        "colab_type": "code",
        "colab": {
          "base_uri": "https://localhost:8080/",
          "height": 235
        },
        "outputId": "9ded8caa-6653-4e59-b7e1-3b4e7d5aa4d5"
      },
      "source": [
        "data2 = pd.read_excel('Accidentalidad_en_Barranquilla.xls', index_col=0)\n",
        "data = data2.drop(['DIA_ACCIDENTE', 'GRAVEDAD_ACCIDENTE','CLASE_ACCIDENTE','SITIO_EXACTO_ACCIDENTE','CANT_HERIDOS_EN _SITIO_ACCIDENTE','CANT_MUERTOS_EN _SITIO_ACCIDENTE','AÑO_ACCIDENTE','MES_ACCIDENTE'], axis=1)\n",
        "data.head()\n",
        "#We can see that we have to group by day in the column \"FECHA_ACCIDENTE\" and that we are just going to some columns, so we drop the ones we are not going to use."
      ],
      "execution_count": null,
      "outputs": [
        {
          "output_type": "execute_result",
          "data": {
            "text/html": [
              "<div>\n",
              "<style scoped>\n",
              "    .dataframe tbody tr th:only-of-type {\n",
              "        vertical-align: middle;\n",
              "    }\n",
              "\n",
              "    .dataframe tbody tr th {\n",
              "        vertical-align: top;\n",
              "    }\n",
              "\n",
              "    .dataframe thead th {\n",
              "        text-align: right;\n",
              "    }\n",
              "</style>\n",
              "<table border=\"1\" class=\"dataframe\">\n",
              "  <thead>\n",
              "    <tr style=\"text-align: right;\">\n",
              "      <th></th>\n",
              "      <th>HORA_ACCIDENTE</th>\n",
              "      <th>CANTIDAD_ACCIDENTES</th>\n",
              "    </tr>\n",
              "    <tr>\n",
              "      <th>FECHA_ACCIDENTE</th>\n",
              "      <th></th>\n",
              "      <th></th>\n",
              "    </tr>\n",
              "  </thead>\n",
              "  <tbody>\n",
              "    <tr>\n",
              "      <th>2015-01-01</th>\n",
              "      <td>02:10:00:PM</td>\n",
              "      <td>1</td>\n",
              "    </tr>\n",
              "    <tr>\n",
              "      <th>2015-01-01</th>\n",
              "      <td>02:15:00:PM</td>\n",
              "      <td>1</td>\n",
              "    </tr>\n",
              "    <tr>\n",
              "      <th>2015-01-01</th>\n",
              "      <td>02:20:00:PM</td>\n",
              "      <td>1</td>\n",
              "    </tr>\n",
              "    <tr>\n",
              "      <th>2015-01-01</th>\n",
              "      <td>03:30:00:PM</td>\n",
              "      <td>1</td>\n",
              "    </tr>\n",
              "    <tr>\n",
              "      <th>2015-01-01</th>\n",
              "      <td>04:20:00:AM</td>\n",
              "      <td>1</td>\n",
              "    </tr>\n",
              "  </tbody>\n",
              "</table>\n",
              "</div>"
            ],
            "text/plain": [
              "                HORA_ACCIDENTE  CANTIDAD_ACCIDENTES\n",
              "FECHA_ACCIDENTE                                    \n",
              "2015-01-01         02:10:00:PM                    1\n",
              "2015-01-01         02:15:00:PM                    1\n",
              "2015-01-01         02:20:00:PM                    1\n",
              "2015-01-01         03:30:00:PM                    1\n",
              "2015-01-01         04:20:00:AM                    1"
            ]
          },
          "metadata": {
            "tags": []
          },
          "execution_count": 16
        }
      ]
    },
    {
      "cell_type": "markdown",
      "metadata": {
        "id": "NlW6T5hSJt1V",
        "colab_type": "text"
      },
      "source": [
        "**Plotting data based on the probability distribution**"
      ]
    },
    {
      "cell_type": "code",
      "metadata": {
        "id": "UeMDL1V_5t5S",
        "colab_type": "code",
        "colab": {
          "base_uri": "https://localhost:8080/",
          "height": 283
        },
        "outputId": "8385b9a4-bd85-4311-c166-bd3351ed483e"
      },
      "source": [
        "from scipy.stats import poisson\n",
        "fig, ax = plt.subplots(1, 1)\n",
        "accidents_by_day = data.groupby(['FECHA_ACCIDENTE'])\n",
        "sums = accidents_by_day['CANTIDAD_ACCIDENTES'].sum()\n",
        "mu2 = sums.mean()\n",
        "max = sums.max()\n",
        "\n",
        "#vlines\n",
        "x2 = sums.values\n",
        "ax.plot(x2, poisson.pmf(x2, mu2), 'co', ms=8, label='poisson pmf')\n",
        "ax.vlines(x2, 0, poisson.pmf(x2, mu2), colors='c', lw=5, alpha=0.5)\n",
        "\n",
        "#histogram\n",
        "x_rv = poisson.rvs(mu2, size=1000)\n",
        "ax.hist(x_rv, density=True, alpha=0.2)\n",
        "ax.legend(loc='best', frameon=False)"
      ],
      "execution_count": null,
      "outputs": [
        {
          "output_type": "execute_result",
          "data": {
            "text/plain": [
              "<matplotlib.legend.Legend at 0x7f76c3e2b7b8>"
            ]
          },
          "metadata": {
            "tags": []
          },
          "execution_count": 17
        },
        {
          "output_type": "display_data",
          "data": {
            "image/png": "[encoded data removed]",
            "text/plain": [
              "<Figure size 432x288 with 1 Axes>"
            ]
          },
          "metadata": {
            "tags": [],
            "needs_background": "light"
          }
        }
      ]
    },
    {
      "cell_type": "markdown",
      "metadata": {
        "id": "FetxrsfBKKhA",
        "colab_type": "text"
      },
      "source": [
        "**This function finds the probability of the random variable to be in a given interval**"
      ]
    },
    {
      "cell_type": "code",
      "metadata": {
        "id": "ij5eG6BQMbqi",
        "colab_type": "code",
        "colab": {}
      },
      "source": [
        "def probability_function2(left,right):\n",
        "  fx = 0\n",
        "  for i in range(left, right):\n",
        "    fx = fx + pow(m.e,-1*mu2) * pow(mu2,i)/(m.factorial(i))\n",
        "  print(fx)"
      ],
      "execution_count": null,
      "outputs": []
    },
    {
      "cell_type": "markdown",
      "metadata": {
        "id": "rm_PlEgfKfBR",
        "colab_type": "text"
      },
      "source": [
        "**The probability of fewer than 10 accidents daily**"
      ]
    },
    {
      "cell_type": "code",
      "metadata": {
        "id": "L1BsxJqgI1__",
        "colab_type": "code",
        "colab": {
          "base_uri": "https://localhost:8080/",
          "height": 35
        },
        "outputId": "9cb41c79-eda5-44ae-a8f5-e0bbee3cf17a"
      },
      "source": [
        "probability_function2(0,10)"
      ],
      "execution_count": null,
      "outputs": [
        {
          "output_type": "stream",
          "text": [
            "0.03780620451822797\n"
          ],
          "name": "stdout"
        }
      ]
    },
    {
      "cell_type": "markdown",
      "metadata": {
        "id": "2Lj-er5HKwRV",
        "colab_type": "text"
      },
      "source": [
        "**The probability of more than 15 accidents daily**"
      ]
    },
    {
      "cell_type": "code",
      "metadata": {
        "id": "Jx7OxUw4JCwa",
        "colab_type": "code",
        "colab": {
          "base_uri": "https://localhost:8080/",
          "height": 35
        },
        "outputId": "0d295906-042a-4470-c84e-5ecd61afe6ef"
      },
      "source": [
        "probability_function2(16,max+1)\n",
        "#print(1-poisson.cdf(15,mu2))"
      ],
      "execution_count": null,
      "outputs": [
        {
          "output_type": "stream",
          "text": [
            "0.5601090513458935\n"
          ],
          "name": "stdout"
        }
      ]
    },
    {
      "cell_type": "markdown",
      "metadata": {
        "id": "w2439lYLnCEI",
        "colab_type": "text"
      },
      "source": [
        "**Violin graph**"
      ]
    },
    {
      "cell_type": "markdown",
      "metadata": {
        "id": "SAwsPi45plM4",
        "colab_type": "text"
      },
      "source": [
        "We use it to appreciate the distribution of the data"
      ]
    },
    {
      "cell_type": "code",
      "metadata": {
        "id": "2g4uwLUInJmo",
        "colab_type": "code",
        "colab": {
          "base_uri": "https://localhost:8080/",
          "height": 265
        },
        "outputId": "fcb6e3c1-737b-4a7f-8cc9-dd7ef5a8760e"
      },
      "source": [
        "sns.violinplot(data=x2)\n",
        "plt.show()"
      ],
      "execution_count": null,
      "outputs": [
        {
          "output_type": "display_data",
          "data": {
            "image/png": "[encoded data removed]",
            "text/plain": [
              "<Figure size 432x288 with 1 Axes>"
            ]
          },
          "metadata": {
            "tags": [],
            "needs_background": "light"
          }
        }
      ]
    },
    {
      "cell_type": "markdown",
      "metadata": {
        "id": "_W7JmBcNNLWD",
        "colab_type": "text"
      },
      "source": [
        "**Analysis of probability distribution for the variable \"cantidad de accidentes En Un Intervalo De Dos Horas\" with th contraints from 6:00 am to 6:00 pm** \n"
      ]
    },
    {
      "cell_type": "markdown",
      "metadata": {
        "id": "Kqs5OpWxOYSp",
        "colab_type": "text"
      },
      "source": [
        "Based on the data, the context and the problem, i can find that the random variable mentioned before follows a poisson distribution, the difference between the last Random Variable and this are the limit hours and the grouping by two hours."
      ]
    },
    {
      "cell_type": "markdown",
      "metadata": {
        "id": "780Nk874mIdv",
        "colab_type": "text"
      },
      "source": [
        "*In the next code cell i will group by two continuous hours, between 6:00 AM to 6:00 PM*"
      ]
    },
    {
      "cell_type": "code",
      "metadata": {
        "id": "_kNjcCTW7cOn",
        "colab_type": "code",
        "colab": {}
      },
      "source": [
        "vector = np.zeros(7)\n",
        "pos = -1\n",
        "for event in data.values:\n",
        "  dato = event[0]\n",
        "  cant = event[1]\n",
        "  time = dato[len(dato)-2:len(dato)]\n",
        "  number = int(dato[0:2])\n",
        "  if time == 'AM':\n",
        "    if number >= 6:\n",
        "      if number ==  6 or number == 7:\n",
        "        pos = 0\n",
        "      elif number == 8 or number == 9:\n",
        "        pos = 1\n",
        "      elif number == 10 or number == 11:\n",
        "        pos = 2\n",
        "      vector[pos] = vector[pos] + cant\n",
        "  elif time == 'PM':\n",
        "    if number <= 6 or number == 12:\n",
        "      if number == 12 or number == 1:\n",
        "        pos = 3\n",
        "      elif number ==  2 or number == 3:\n",
        "        pos = 4\n",
        "      elif number == 4 or number == 5:\n",
        "        pos = 5\n",
        "        if number == 5:\n",
        "          vector[pos] = vector[pos] + cant\n",
        "      if number == 5 or number == 6:\n",
        "        pos = 6\n",
        "      vector[pos] = vector[pos] + cant"
      ],
      "execution_count": null,
      "outputs": []
    },
    {
      "cell_type": "markdown",
      "metadata": {
        "id": "MDA22jkollAf",
        "colab_type": "text"
      },
      "source": [
        "**Graph for the intervals of two hours between 6:00 AM to 6:00 PM**"
      ]
    },
    {
      "cell_type": "code",
      "metadata": {
        "id": "yB-FmdlzhEP4",
        "colab_type": "code",
        "colab": {
          "base_uri": "https://localhost:8080/",
          "height": 301
        },
        "outputId": "87d4b7f4-ef6b-4f79-d413-b1d0f7d4a5d4"
      },
      "source": [
        "fig, ax = plt.subplots(1, 1)\n",
        "print(vector)\n",
        "#vlines\n",
        "prueba =['6-7AM','8-9AM','10-11AM','12-1PM','2-3PM','4-5PM','5-6PM']\n",
        "ax.plot(prueba, vector, 'co', ms=8, label='poisson pmf')\n",
        "ax.vlines(prueba, 0, vector, colors='c', lw=5, alpha=0.5)"
      ],
      "execution_count": null,
      "outputs": [
        {
          "output_type": "stream",
          "text": [
            "[2967. 3853. 4029. 4559. 4233. 4415. 4142.]\n"
          ],
          "name": "stdout"
        },
        {
          "output_type": "execute_result",
          "data": {
            "text/plain": [
              "<matplotlib.collections.LineCollection at 0x7f76c394ada0>"
            ]
          },
          "metadata": {
            "tags": []
          },
          "execution_count": 24
        },
        {
          "output_type": "display_data",
          "data": {
            "image/png": "[encoded data removed]",
            "text/plain": [
              "<Figure size 432x288 with 1 Axes>"
            ]
          },
          "metadata": {
            "tags": [],
            "needs_background": "light"
          }
        }
      ]
    },
    {
      "cell_type": "markdown",
      "metadata": {
        "id": "3iF5r5-1MyJE",
        "colab_type": "text"
      },
      "source": [
        "**Mean**"
      ]
    },
    {
      "cell_type": "code",
      "metadata": {
        "id": "uxrTuS6qM0Hf",
        "colab_type": "code",
        "colab": {
          "base_uri": "https://localhost:8080/",
          "height": 35
        },
        "outputId": "7bd740c3-7bc1-4702-aa28-ab75749dcc75"
      },
      "source": [
        "print(x2.mean())"
      ],
      "execution_count": null,
      "outputs": [
        {
          "output_type": "stream",
          "text": [
            "16.273556231003038\n"
          ],
          "name": "stdout"
        }
      ]
    },
    {
      "cell_type": "markdown",
      "metadata": {
        "id": "mYQ1DkiMU1gc",
        "colab_type": "text"
      },
      "source": [
        "**Minimun and maximun traffic accidents in a day**"
      ]
    },
    {
      "cell_type": "code",
      "metadata": {
        "id": "FmkuScESU_Ia",
        "colab_type": "code",
        "colab": {
          "base_uri": "https://localhost:8080/",
          "height": 53
        },
        "outputId": "d7d93859-9ddb-4dbc-9746-0a8bf6c42034"
      },
      "source": [
        "print(\"Minimun: \",x2.min())\n",
        "print(\"Maximun: \",x2.max())"
      ],
      "execution_count": null,
      "outputs": [
        {
          "output_type": "stream",
          "text": [
            "Minimun:  1\n",
            "Maximun:  34\n"
          ],
          "name": "stdout"
        }
      ]
    },
    {
      "cell_type": "markdown",
      "metadata": {
        "id": "qVDj0k3qLQ4s",
        "colab_type": "text"
      },
      "source": [
        "**Conclusions**"
      ]
    },
    {
      "cell_type": "markdown",
      "metadata": {
        "id": "LGtEd4acLbTv",
        "colab_type": "text"
      },
      "source": [
        "Based on the data analysis, we found that from 2015 to 2020 there are about 16 traffic accidents daily in Barranquilla, the interval which has the lowest accident rate between 6:00 AM to 6:59 PM is from 06:00 AM to 07:59 AM, the reason may be because at that time most people is slepping or in their house before going to work, school, universities, etc. So the fewer cars on the road, the less accident rate tends to be. \n",
        "In these almost 5 years, in the day with the minimun accidents there was one accident and the day with most accidents there were 34 of these events. On the other hand we can see that from 12:00M to 1:59 PM is the interval were more accidents occurs, this might be because most people is going and coming for lunch and the given time for lunch is usually short so they need to drive faster to get to the destination.\n",
        "I also found that the probability for having less than 10 accidents in a day is around 4% and the probability of having more than 15 accidents daily is about 56%."
      ]
    }
  ]
}